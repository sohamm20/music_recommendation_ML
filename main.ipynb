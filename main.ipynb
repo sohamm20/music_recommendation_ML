{
  "metadata": {
    "kernelspec": {
      "name": "python",
      "display_name": "Python (Pyodide)",
      "language": "python"
    },
    "language_info": {
      "codemirror_mode": {
        "name": "python",
        "version": 3
      },
      "file_extension": ".py",
      "mimetype": "text/x-python",
      "name": "python",
      "nbconvert_exporter": "python",
      "pygments_lexer": "ipython3",
      "version": "3.8"
    }
  },
  "nbformat_minor": 5,
  "nbformat": 4,
  "cells": [
    {
      "cell_type": "code",
      "source": "\nimport numpy as np\nimport pandas as pd\nfrom sklearn.tree import DecisionTreeClassifier\nfrom sklearn.model_selection import train_test_split\nfrom sklearn.metrics import accuracy_score\n\nmusic_data = pd.read_csv(\"music.csv\")\n\nX = music_data.drop(columns = [\"genre\"])\ny = music_data[\"genre\"]\nX_train, X_test, y_train, y_test = train_test_split(X, y, test_size = 0.2)\n\nmodel = DecisionTreeClassifier()\nmodel.fit(X_train, y_train)\npredictions = model.predict(X_test)\nscore = accuracy_score(y_test, predictions)\n100*score",
      "metadata": {
        "trusted": true
      },
      "execution_count": 49,
      "outputs": [
        {
          "execution_count": 49,
          "output_type": "execute_result",
          "data": {
            "text/plain": "40.0"
          },
          "metadata": {}
        }
      ],
      "id": "dc9a0526-0922-48bf-9e97-518a04d60afc"
    },
    {
      "cell_type": "code",
      "source": "",
      "metadata": {},
      "execution_count": null,
      "outputs": [],
      "id": "2b16fe64-d6c0-43a9-af97-f5fdfdf34a28"
    },
    {
      "cell_type": "code",
      "source": "",
      "metadata": {},
      "execution_count": null,
      "outputs": [],
      "id": "60dc1f46-d973-4be3-b559-e55797d64338"
    },
    {
      "cell_type": "code",
      "source": "",
      "metadata": {},
      "execution_count": null,
      "outputs": [],
      "id": "abbec6f2-0e10-4177-b7f2-881481e24225"
    }
  ]
}